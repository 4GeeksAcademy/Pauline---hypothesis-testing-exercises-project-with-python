{
 "cells": [
  {
   "cell_type": "markdown",
   "id": "d9d036c6",
   "metadata": {},
   "source": [
    "# Problemas de prueba de hipótesis"
   ]
  },
  {
   "cell_type": "markdown",
   "id": "d157c4db",
   "metadata": {},
   "source": [
    "## Ejercicio 1\n",
    "\n",
    "Usted es un nutricionista que investiga dos tipos diferentes de dietas para ver si existe una diferencia significativa en la pérdida de peso después de un mes. Eliges dos grupos aleatorios de personas; un grupo sigue la primera dieta y el otro sigue la segunda. Al final del mes, se registra la pérdida de peso (en kg) de cada persona:\n",
    "\n",
    "| Diet 1 | Diet 2 |\n",
    "|:-------|:-------|\n",
    "| 2.0 | 3.0 |\n",
    "| 2.5 | 3.2 |\n",
    "| 3.0 | 3.1 |\n",
    "| 2.8 | 2.9 |\n",
    "| 2.3 | 2.8 |\n",
    "| 2.7 | 3.0 |\n",
    "| 2.5 | 3.2 |\n",
    "\n",
    "Con estos datos se busca responder a la siguiente pregunta: ¿Existe una diferencia significativa en la pérdida de peso promedio entre las personas que siguieron la primera dieta y las que siguieron la segunda dieta?\n",
    "\n",
    "Para sacar conclusiones, siga los siguientes puntos:\n",
    "\n",
    "-Enunciar la hipótesis: hipótesis nula y alternativa.\n",
    "-Realizar la prueba para comprobar la hipótesis. Puede utilizar la prueba t de Student.\n",
    "-Analizar las conclusiones.\n"
   ]
  },
  {
   "cell_type": "code",
   "execution_count": 68,
   "id": "c4e2e1ca",
   "metadata": {},
   "outputs": [],
   "source": [
    "from scipy import stats\n",
    "import numpy as np\n",
    "import statsmodels.api as sm\n",
    "import statsmodels.stats.multicomp\n",
    "from scipy.stats import f_oneway\n"
   ]
  },
  {
   "cell_type": "code",
   "execution_count": null,
   "id": "8e0f3cf0",
   "metadata": {},
   "outputs": [],
   "source": [
    "# TODO\n",
    "\n",
    "diet_1 = [2.0, 2.5, 3.0, 2.8, 2.3, 2.7, 2.5]\n",
    "diet_2 = [3.0, 3.2, 3.1, 2.9, 2.8, 3.0, 3.2]"
   ]
  },
  {
   "cell_type": "markdown",
   "id": "49bfd9ca",
   "metadata": {},
   "source": [
    "H_0: No hay una diferencia significativa en la pérdida de peso promedio entre las personas que siguieron la primera dieta y las que siguieron la segunda dieta\n",
    "\n",
    "H_1: Hay una diferencia significativa en la pérdida de peso promedio entre las personas que siguieron la primera dieta y las que siguieron la segunda dieta."
   ]
  },
  {
   "cell_type": "code",
   "execution_count": 70,
   "id": "128dde42",
   "metadata": {},
   "outputs": [],
   "source": [
    "#"
   ]
  },
  {
   "cell_type": "code",
   "execution_count": 71,
   "id": "36645a54",
   "metadata": {},
   "outputs": [
    {
     "name": "stdout",
     "output_type": "stream",
     "text": [
      "La evidencia de los datos es suficientemente fuerte como para rechazar la hipótesis nula H₀, es decir, respaldan la Hipótesis alternativa (H₁),\n",
      " que no hay significativa en la pérdida de peso promedio entre las personas que siguieron la primera dieta y las que siguieron la segunda dieta\n",
      "Es muy improbable que la evidencia observada se deba al azar (p-valor=0.004083270191713912).\n"
     ]
    }
   ],
   "source": [
    "\n",
    "# Comprobamos con T test : \n",
    "\n",
    "pval = stats.ttest_ind(diet_1, diet_2).pvalue\n",
    "alpha = 0.05\n",
    "\n",
    "if pval < alpha:\n",
    "    print(\"La evidencia de los datos es suficientemente fuerte como para rechazar la hipótesis nula H₀, es decir, respaldan la Hipótesis alternativa (H₁),\\n que no hay significativa en la pérdida de peso promedio entre las personas que siguieron la primera dieta y las que siguieron la segunda dieta\")\n",
    "    print(f\"Es muy improbable que la evidencia observada se deba al azar (p-valor={pval}).\")\n",
    "else:\n",
    "    print(\"No hay suficiente evidencia para rechazar la hipótesis nula H₀, es decir, no hay suficiente evidencia para afirmar que la hipótesis nula es falsa.\\nAsumimos entonces que hay posibilidad todavía que haya diferencia significativa en la perdida de peso promedio entre las personas que siguieron la 1er dieta y las que siguoeron la 2nda dieta.\")\n",
    "    print(\"Esto no implica que aceptemos H₀, ya que la ausencia de evidencia no es lo mismo que evidencia en su favor.\")\n",
    "    print(f\"Es muy probable que la evidencia observada se deba al azar (p-valor={pval}).\")\n",
    "\n"
   ]
  },
  {
   "cell_type": "code",
   "execution_count": null,
   "id": "46577350",
   "metadata": {},
   "outputs": [],
   "source": []
  },
  {
   "cell_type": "markdown",
   "id": "f432e18e",
   "metadata": {},
   "source": [
    "## ANOVA\n",
    "\n",
    "**ANOVA** (*Analysis of Variance - Análisis de variación*) Es una técnica estadística utilizada para comparar las medidas de dos o más grupos. La idea detrás de ANOVA es descomponer la variabilidad total de los datos en dos componentes: variabilidad entre grupos y variabilidad dentro de los grupos:\n",
    "\n",
    "- **Variabilidad entre grupos**: Esta variabilidad se refiere a las diferencias entre las medias del grupo. Si esta variabilidad es considerablemente mayor que la variabilidad dentro del grupo, podría ser una indicación de que al menos una de las medias del grupo es diferente.\n",
    "- **Variabilidad dentro del grupo**: Esta variabilidad se refiere a la dispersión de los datos dentro de cada grupo. Si todos los grupos tienen una variabilidad similar, entonces cualquier diferencia notable en las medias de los grupos podría considerarse significativa.\n",
    "\n",
    "Las hipótesis en ANOVA suelen incluir:\n",
    "\n",
    "- **Hipótesis nula** ($H₀$): Las medias de todos los grupos son iguales.\n",
    "- **Hipótesis alternativa** ($H₁$): Al menos una de las medias del grupo es diferente.\n",
    "\n",
    "Si el resultado de la prueba ANOVA es significativo (por ejemplo, un valor p inferior a un umbral como 0,05), esto sugiere que al menos la media de un grupo es diferente."
   ]
  },
  {
   "cell_type": "markdown",
   "id": "fc5f3721",
   "metadata": {},
   "source": [
    "## Ejercicio 2\n",
    "\n",
    "Un agricultor decide probar tres tipos diferentes de fertilizantes para determinar si alguno es superior en términos de producción de maíz. El agricultor planta maíz en 15 parcelas idénticas y utiliza los tres fertilizantes (5 parcelas para cada tipo). Al final de la temporada mide el rendimiento de maíz (en kg) de cada parcela, con el siguiente resultado:\n",
    "\n",
    "| Fertilizante 1 | Fertilizante 2 | Fertilizante 3 |\n",
    "|:-------------|:-------------|:-------------|\n",
    "| 20 | 22 | 24 |\n",
    "| 21 | 21 | 23 |\n",
    "| 20 | 23 | 22 |\n",
    "| 19 | 22 | 23 |\n",
    "| 20 | 21 | 24 |\n",
    "\n",
    "Con estos datos busca responder la siguiente pregunta: ¿Existe una diferencia significativa en el rendimiento promedio del maíz entre los tres tipos de fertilizantes?\n",
    "\n",
    "Para ayudarte, sigue los siguientes puntos:\n",
    "\n",
    "-Enunciar la hipótesis: hipótesis nula y alternativa.\n",
    "-Realizar la prueba ANOVA.\n",
    "-Analizar las conclusiones.\n",
    "-Si un fertilizante es mejor que otro, ¿cómo podemos saberlo?"
   ]
  },
  {
   "cell_type": "code",
   "execution_count": 72,
   "id": "eecad0ca",
   "metadata": {},
   "outputs": [
    {
     "name": "stdout",
     "output_type": "stream",
     "text": [
      "Rechazamos H₀: Hay una diferencia significativa entre los fertilizantes. (valor p = 0.00014047824793190475)\n"
     ]
    }
   ],
   "source": [
    "# TODO\n",
    "\n",
    "#H_0: Las medias de todos los grupos son iguales y un fertilizante superior\n",
    "\n",
    "#H_1: Al menos una de las medias del grupo es diferente.\n",
    "\n",
    "fertilizante_1 = [20, 21, 20, 19, 20]\n",
    "fertilizante_2 = [22, 21, 23, 22, 21]\n",
    "fertilizante_3 = [24, 23, 22, 23, 24]\n",
    "\n",
    "\n",
    "pvalor  = stats.f_oneway(fertilizante_1, fertilizante_2, fertilizante_3).pvalue\n",
    "alpha = 0.05\n",
    "\n",
    "if pvalor < alpha:\n",
    "    print(f\"Rechazamos H₀: Hay una diferencia significativa entre los fertilizantes. (valor p = {pvalor})\")\n",
    "else:\n",
    "    print(f\"No rechazamos H₀: No hay diferencia significativa entre los fertilizantes. (valor p = {pvalor})\")\n",
    "\n",
    "\n"
   ]
  },
  {
   "cell_type": "code",
   "execution_count": 73,
   "id": "e000ef73",
   "metadata": {},
   "outputs": [
    {
     "name": "stdout",
     "output_type": "stream",
     "text": [
      "Variabilidad entre grupos / variabilidad dentro de los grupos: 20.315789473684188\n",
      "Pvalor: 0.00014047824793190475\n",
      "Rechazamos H₀: Hay una diferencia significativa entre los fertilizantes. (valor p = 0.00014047824793190475)\n"
     ]
    }
   ],
   "source": [
    "#otra manera :\n",
    "\n",
    "F, p = stats.f_oneway(fertilizante_1, fertilizante_2, fertilizante_3)\n",
    "print(f\"Variabilidad entre grupos / variabilidad dentro de los grupos: {F}\")\n",
    "print(f\"Pvalor: {p}\")\n",
    "\n",
    "if p< alpha:\n",
    "    print(f\"Rechazamos H₀: Hay una diferencia significativa entre los fertilizantes. (valor p = {p})\")\n",
    "else:\n",
    "    print(f\"No rechazamos H₀: No hay diferencia significativa entre los fertilizantes. (valor p = {p})\")"
   ]
  },
  {
   "cell_type": "code",
   "execution_count": 74,
   "id": "02a5fe1b",
   "metadata": {},
   "outputs": [
    {
     "name": "stdout",
     "output_type": "stream",
     "text": [
      "       Multiple Comparison of Means - Tukey HSD, FWER=0.05        \n",
      "==================================================================\n",
      "    group1         group2     meandiff p-adj  lower  upper  reject\n",
      "------------------------------------------------------------------\n",
      "Fertilizante 1 Fertilizante 2      1.8 0.0099 0.4572 3.1428   True\n",
      "Fertilizante 1 Fertilizante 3      3.2 0.0001 1.8572 4.5428   True\n",
      "Fertilizante 2 Fertilizante 3      1.4 0.0409 0.0572 2.7428   True\n",
      "------------------------------------------------------------------\n"
     ]
    }
   ],
   "source": [
    "# Usamos Tukey : Calculate all pairwise comparisons with TukeyHSD confidence intervals\n",
    "# compara cada par de grupos y te dice cuáles son significativamente diferentes entre sí.\n",
    "# statsmodels.stats.multicomp.pairwise_tukeyhsd(endog, groups, alpha=0.05)\n",
    "\n",
    "datos = np.array(fertilizante_1 + fertilizante_2 + fertilizante_3)\n",
    "grupos = ['Fertilizante 1'] * 5 + ['Fertilizante 2'] * 5 + ['Fertilizante 3'] * 5\n",
    "\n",
    "tukey_resultados = statsmodels.stats.multicomp.pairwise_tukeyhsd(datos, grupos, alpha=0.05)\n",
    "print(tukey_resultados)"
   ]
  },
  {
   "cell_type": "markdown",
   "id": "1087cddd",
   "metadata": {},
   "source": [
    "**meandiff** : diferencia de medias \n",
    "\n",
    "**p-adj** = --> p, es lo que se compara con alpha, si es menor entonces indica que la diferencia es significativa\n",
    "\n",
    "**Lower y Upper**: Definen el rango del intervalo de confianza para la diferencia de medias. Si este intervalo no incluye cero, indica que la diferencia es significativa.\n",
    "\n",
    "**Reject**: Si es True, significa que la diferencia entre los grupos comparados es significativa (es decir, se rechaza la hipótesis nula de que las medias son iguales). \n",
    "Si es False, no hay evidencia suficiente para rechazar la hipótesis nula y no se puede concluir que haya una diferencia significativa.\n",
    "\n",
    "**Entonces en ese caso**\n",
    "\n",
    "Todas las comparaciones tienen \"True\" en Reject --> todas las diferencias entre los grupos comparados son significativas\n",
    "Ningun intervalo de confianza incluye 0 --> todas las diferencias entre los grupos comparados son significativas\n",
    "= Los tres fertilizantes muestran diferencias significativas en cuanto a rendimiento. \n",
    "\n",
    "Ahora para saber cual es más eficaz miramos meandiff y p : \n",
    "\n",
    "El fertilizante 3 tiene una diferencia significativa de 3.2 con el fertilizante 1 (p = 0.0001) y una diferencia significativa de 1.4 con el fertilizante 2 (p= 0.0409).\n",
    "En los 2 casos, el fertilizante 3 tiene un rendimiento superior, entonces se puede considerar que es el mejor.\n"
   ]
  },
  {
   "cell_type": "code",
   "execution_count": null,
   "id": "09985670",
   "metadata": {},
   "outputs": [],
   "source": []
  },
  {
   "cell_type": "code",
   "execution_count": null,
   "id": "241c8dc5",
   "metadata": {},
   "outputs": [],
   "source": []
  }
 ],
 "metadata": {
  "kernelspec": {
   "display_name": "Python 3",
   "language": "python",
   "name": "python3"
  },
  "language_info": {
   "codemirror_mode": {
    "name": "ipython",
    "version": 3
   },
   "file_extension": ".py",
   "mimetype": "text/x-python",
   "name": "python",
   "nbconvert_exporter": "python",
   "pygments_lexer": "ipython3",
   "version": "3.11.4"
  }
 },
 "nbformat": 4,
 "nbformat_minor": 5
}
